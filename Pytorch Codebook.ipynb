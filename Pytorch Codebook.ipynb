{
 "cells": [
  {
   "cell_type": "markdown",
   "metadata": {
    "id": "RYFuejL5sXMt"
   },
   "source": [
    "---\n",
    "# 📁 Hyun's Code collection (Pytorch) \n",
    "---\n",
    "\n",
    "### <h3 align=\"right\">🥇 Authored by <strong>Hyun</strong></h3>"
   ]
  },
  {
   "cell_type": "markdown",
   "metadata": {
    "id": "09tmY8XSC_MR"
   },
   "source": [
    "# ✏️  What is **Pytorch**?"
   ]
  },
  {
   "cell_type": "markdown",
   "metadata": {
    "id": "iMDw2HViCZSF"
   },
   "source": [
    "- Python 기반의 deep learning framework\n",
    "- tensor란 array, matrices와 비슷한 special data structure이다."
   ]
  },
  {
   "cell_type": "markdown",
   "metadata": {
    "id": "aFbtD4uKrv3W"
   },
   "source": [
    "# ✏️ Importing Libraries"
   ]
  },
  {
   "cell_type": "code",
   "execution_count": 36,
   "metadata": {
    "id": "gRO8gtPDrySn"
   },
   "outputs": [],
   "source": [
    "import torch\n",
    "import numpy as np\n",
    "import torch, torchvision"
   ]
  },
  {
   "cell_type": "markdown",
   "metadata": {
    "id": "4cHEbaxACoXX"
   },
   "source": [
    "# ✏️  Methods and Examples"
   ]
  },
  {
   "cell_type": "markdown",
   "metadata": {
    "id": "TjoEySIkCptx"
   },
   "source": [
    "## 🔎 Basic Methods"
   ]
  },
  {
   "cell_type": "markdown",
   "metadata": {
    "id": "FuiVIZAcC1Aa"
   },
   "source": [
    "- **torch .tensor ( )**: tensor로 변환하기\n",
    "- **torch .from_numpy ( )**: numpy array를 tensor로 바꿈\n",
    "- **torch .ones_like ( )**: tensor의 shape, datatype은 유지하면서 1로 찬 tensor 생성\n",
    "- **torch .rand_like ( )**: tensor의 shape, datatype은 유지하면서 random한 수로 찬 tensor 생성\n",
    "- **torch .rand ( < shape > )**: shape에 맞는 random tensor를 반환\n",
    "- **torch .ones ( < shape > )**: shape에 맞는 1 tensor를 반환\n",
    "- **torch .zeros ( < shape > )**: shape에 맞는 0 tensor를 반환\n",
    "- **torch .cat ( )**: tensor들을 합함\n",
    "- **torch .mul ( )**: tensor들을 곱함\n",
    "- **torch .matmul ( )**: tensor들끼리 행렬곱 연산을 시행\n",
    "- **torch .add_ ( < int > )**: tensor에 정수를 더함\n",
    "- **텐서 .numpy( )**: tensor를 numpy로 바꿈"
   ]
  },
  {
   "cell_type": "markdown",
   "metadata": {
    "id": "FSnkpKBACqlF"
   },
   "source": [
    "### 📔 Examples"
   ]
  },
  {
   "cell_type": "code",
   "execution_count": 13,
   "metadata": {},
   "outputs": [],
   "source": [
    "if torch.cuda.is_available():\n",
    "  tensor = tensor.to('cuda')"
   ]
  },
  {
   "cell_type": "code",
   "execution_count": 6,
   "metadata": {},
   "outputs": [
    {
     "data": {
      "text/plain": [
       "tensor([[1, 2],\n",
       "        [3, 4]])"
      ]
     },
     "execution_count": 6,
     "metadata": {},
     "output_type": "execute_result"
    }
   ],
   "source": [
    "data = [[1, 2],[3, 4]]\n",
    "x_data = torch.tensor(data)\n",
    "x_data"
   ]
  },
  {
   "cell_type": "code",
   "execution_count": 7,
   "metadata": {},
   "outputs": [
    {
     "data": {
      "text/plain": [
       "tensor([[1, 2],\n",
       "        [3, 4]])"
      ]
     },
     "execution_count": 7,
     "metadata": {},
     "output_type": "execute_result"
    }
   ],
   "source": [
    "np_array = np.array(data)\n",
    "x_np = torch.from_numpy(np_array)\n",
    "x_np"
   ]
  },
  {
   "cell_type": "code",
   "execution_count": 8,
   "metadata": {},
   "outputs": [
    {
     "name": "stdout",
     "output_type": "stream",
     "text": [
      "Ones Tensor: \n",
      " tensor([[1, 1],\n",
      "        [1, 1]]) \n",
      "\n",
      "Random Tensor: \n",
      " tensor([[0.0622, 0.0990],\n",
      "        [0.1682, 0.8215]]) \n",
      "\n"
     ]
    }
   ],
   "source": [
    "x_ones = torch.ones_like(x_data) # retains the properties of x_data\n",
    "print(f\"Ones Tensor: \\n {x_ones} \\n\")\n",
    "\n",
    "x_rand = torch.rand_like(x_data, dtype=torch.float) # overrides the datatype of x_data\n",
    "print(f\"Random Tensor: \\n {x_rand} \\n\")"
   ]
  },
  {
   "cell_type": "code",
   "execution_count": 11,
   "metadata": {},
   "outputs": [
    {
     "data": {
      "text/plain": [
       "tensor([[0.5373, 0.9462, 0.0152],\n",
       "        [0.2210, 0.5261, 0.2530]])"
      ]
     },
     "execution_count": 11,
     "metadata": {},
     "output_type": "execute_result"
    }
   ],
   "source": [
    "shape = (2,3,)\n",
    "rand_tensor = torch.rand(shape)\n",
    "rand_tensor"
   ]
  },
  {
   "cell_type": "code",
   "execution_count": 12,
   "metadata": {},
   "outputs": [
    {
     "data": {
      "text/plain": [
       "tensor([[1., 1., 1.],\n",
       "        [1., 1., 1.]])"
      ]
     },
     "execution_count": 12,
     "metadata": {},
     "output_type": "execute_result"
    }
   ],
   "source": [
    "ones_tensor = torch.ones(shape)\n",
    "ones_tensor"
   ]
  },
  {
   "cell_type": "code",
   "execution_count": 10,
   "metadata": {},
   "outputs": [
    {
     "data": {
      "text/plain": [
       "tensor([[0., 0., 0.],\n",
       "        [0., 0., 0.]])"
      ]
     },
     "execution_count": 10,
     "metadata": {},
     "output_type": "execute_result"
    }
   ],
   "source": [
    "zeros_tensor = torch.zeros(shape)\n",
    "zeros_tensor"
   ]
  },
  {
   "cell_type": "code",
   "execution_count": 14,
   "metadata": {},
   "outputs": [
    {
     "name": "stdout",
     "output_type": "stream",
     "text": [
      "tensor([[1., 0., 1., 1.],\n",
      "        [1., 0., 1., 1.],\n",
      "        [1., 0., 1., 1.],\n",
      "        [1., 0., 1., 1.]])\n"
     ]
    }
   ],
   "source": [
    "tensor = torch.ones(4, 4)\n",
    "tensor[:,1] = 0\n",
    "print(tensor)"
   ]
  },
  {
   "cell_type": "code",
   "execution_count": 18,
   "metadata": {},
   "outputs": [
    {
     "name": "stdout",
     "output_type": "stream",
     "text": [
      "tensor([[1., 0., 1., 1., 1., 0., 1., 1., 1., 0., 1., 1.],\n",
      "        [1., 0., 1., 1., 1., 0., 1., 1., 1., 0., 1., 1.],\n",
      "        [1., 0., 1., 1., 1., 0., 1., 1., 1., 0., 1., 1.],\n",
      "        [1., 0., 1., 1., 1., 0., 1., 1., 1., 0., 1., 1.]])\n"
     ]
    }
   ],
   "source": [
    "t1 = torch.cat([tensor, tensor, tensor], dim=1)\n",
    "print(t1)"
   ]
  },
  {
   "cell_type": "code",
   "execution_count": 24,
   "metadata": {
    "scrolled": true
   },
   "outputs": [
    {
     "data": {
      "text/plain": [
       "tensor([[1., 0., 1., 1.],\n",
       "        [1., 0., 1., 1.],\n",
       "        [1., 0., 1., 1.],\n",
       "        [1., 0., 1., 1.]])"
      ]
     },
     "execution_count": 24,
     "metadata": {},
     "output_type": "execute_result"
    }
   ],
   "source": [
    "tensor"
   ]
  },
  {
   "cell_type": "code",
   "execution_count": 29,
   "metadata": {},
   "outputs": [
    {
     "name": "stdout",
     "output_type": "stream",
     "text": [
      "tensor([[ 1,  4],\n",
      "        [ 9, 16],\n",
      "        [25, 36]])\n",
      "{tensor([[ 1,  4],\n",
      "        [ 9, 16],\n",
      "        [25, 36]])}\n"
     ]
    }
   ],
   "source": [
    "data = [[1, 2],[3, 4], [5,6]]\n",
    "tensor = torch.tensor(data)\n",
    "print(tensor.mul(tensor))\n",
    "print({tensor * tensor})"
   ]
  },
  {
   "cell_type": "code",
   "execution_count": 32,
   "metadata": {},
   "outputs": [
    {
     "name": "stdout",
     "output_type": "stream",
     "text": [
      "tensor([[ 5, 11, 17],\n",
      "        [11, 25, 39],\n",
      "        [17, 39, 61]])\n",
      "tensor([[ 5, 11, 17],\n",
      "        [11, 25, 39],\n",
      "        [17, 39, 61]])\n"
     ]
    }
   ],
   "source": [
    "print(tensor.matmul(tensor.T))\n",
    "# Alternative syntax:\n",
    "print(tensor @ tensor.T)"
   ]
  },
  {
   "cell_type": "code",
   "execution_count": 33,
   "metadata": {},
   "outputs": [
    {
     "name": "stdout",
     "output_type": "stream",
     "text": [
      "tensor([[1, 2],\n",
      "        [3, 4],\n",
      "        [5, 6]]) \n",
      "\n",
      "tensor([[ 6,  7],\n",
      "        [ 8,  9],\n",
      "        [10, 11]])\n"
     ]
    }
   ],
   "source": [
    "print(tensor, \"\\n\")\n",
    "tensor.add_(5)\n",
    "print(tensor)"
   ]
  },
  {
   "cell_type": "code",
   "execution_count": 35,
   "metadata": {},
   "outputs": [
    {
     "name": "stdout",
     "output_type": "stream",
     "text": [
      "t: tensor([1., 1., 1., 1., 1.])\n",
      "n: [1. 1. 1. 1. 1.]\n"
     ]
    }
   ],
   "source": [
    "t = torch.ones(5)\n",
    "print(f\"t: {t}\")\n",
    "\n",
    "n = t.numpy()\n",
    "print(f\"n: {n}\")"
   ]
  },
  {
   "cell_type": "markdown",
   "metadata": {
    "id": "TjoEySIkCptx"
   },
   "source": [
    "## 🔎 Auto-grad"
   ]
  },
  {
   "cell_type": "markdown",
   "metadata": {
    "id": "FuiVIZAcC1Aa"
   },
   "source": [
    "> Auto-grad\n",
    "- Auto-grad는 neural network train을 도와주는 도구다.\n",
    "  - Forward Propagation: 정답을 예측해나간다.\n",
    "  - Backward Propagation: error에 따라 parameter를 조정한다.\n",
    "\n",
    "- **torch .tensor ( )**: tensor로 변환하기\n",
    "- **torch .from_numpy ( )**: numpy array를 tensor로 바꿈\n",
    "- **torch .ones_like ( )**: tensor의 shape, datatype은 유지하면서 1로 찬 tensor 생성\n",
    "- **torch .rand_like ( )**: tensor의 shape, datatype은 유지하면서 random한 수로 찬 tensor 생성\n",
    "- **torch .rand ( < shape > )**: shape에 맞는 random tensor를 반환\n",
    "- **torch .ones ( < shape > )**: shape에 맞는 1 tensor를 반환\n",
    "- **torch .zeros ( < shape > )**: shape에 맞는 0 tensor를 반환\n",
    "- **torch .cat ( )**: tensor들을 합함\n",
    "- **torch .mul ( )**: tensor들을 곱함\n",
    "- **torch .matmul ( )**: tensor들끼리 행렬곱 연산을 시행\n",
    "- **torch .add_ ( < int > )**: tensor에 정수를 더함\n",
    "- **텐서 .numpy( )**: tensor를 numpy로 바꿈"
   ]
  },
  {
   "cell_type": "markdown",
   "metadata": {
    "id": "FSnkpKBACqlF"
   },
   "source": [
    "### 📔 Examples"
   ]
  },
  {
   "cell_type": "code",
   "execution_count": 37,
   "metadata": {},
   "outputs": [
    {
     "name": "stderr",
     "output_type": "stream",
     "text": [
      "Downloading: \"https://download.pytorch.org/models/resnet18-5c106cde.pth\" to /Users/junghyunwoo/.cache/torch/hub/checkpoints/resnet18-5c106cde.pth\n"
     ]
    },
    {
     "data": {
      "application/vnd.jupyter.widget-view+json": {
       "model_id": "35a85247f5cb4e38bf13c1e9d6995185",
       "version_major": 2,
       "version_minor": 0
      },
      "text/plain": [
       "HBox(children=(HTML(value=''), FloatProgress(value=0.0, max=46827520.0), HTML(value='')))"
      ]
     },
     "metadata": {},
     "output_type": "display_data"
    },
    {
     "name": "stdout",
     "output_type": "stream",
     "text": [
      "\n"
     ]
    }
   ],
   "source": [
    "model = torchvision.models.resnet18(pretrained=True)\n",
    "data = torch.rand(1, 3, 64, 64)   # single image with 3 channels, and height& & Width of 64\n",
    "labels = torch.rand(1, 1000)"
   ]
  },
  {
   "cell_type": "code",
   "execution_count": 41,
   "metadata": {},
   "outputs": [],
   "source": [
    "prediction = model(data) # forward propagation\n",
    "\n",
    "loss = (prediction - labels).sum()\n",
    "loss.backward() # backward propagation\n",
    "\n",
    "optim = torch.optim.SGD(model.parameters(), lr=1e-2, momentum=0.9)\n",
    "\n",
    "optim.step() # initiate gradient descent\n"
   ]
  }
 ],
 "metadata": {
  "accelerator": "GPU",
  "colab": {
   "collapsed_sections": [
    "RYFuejL5sXMt",
    "aFbtD4uKrv3W"
   ],
   "name": "(원본) [Numpy] Python3 Codebook.ipynb",
   "provenance": []
  },
  "kernelspec": {
   "display_name": "Python 3",
   "language": "python",
   "name": "python3"
  },
  "language_info": {
   "codemirror_mode": {
    "name": "ipython",
    "version": 3
   },
   "file_extension": ".py",
   "mimetype": "text/x-python",
   "name": "python",
   "nbconvert_exporter": "python",
   "pygments_lexer": "ipython3",
   "version": "3.8.2"
  }
 },
 "nbformat": 4,
 "nbformat_minor": 1
}
